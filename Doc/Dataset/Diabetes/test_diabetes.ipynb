{
 "cells": [
  {
   "cell_type": "code",
   "execution_count": 94,
   "metadata": {},
   "outputs": [
    {
     "data": {
      "text/plain": [
       "'2.5.0'"
      ]
     },
     "execution_count": 94,
     "metadata": {},
     "output_type": "execute_result"
    }
   ],
   "source": [
    "from tensorflow import keras\n",
    "keras.__version__"
   ]
  },
  {
   "cell_type": "code",
   "execution_count": 95,
   "metadata": {},
   "outputs": [],
   "source": [
    "import pandas as pd\n",
    "import numpy as np\n",
    "\n",
    "diab_data = pd.read_csv(\"diabetes.csv\")\n",
    "\n",
    "diab_features = diab_data.copy()\n",
    "diab_labels = diab_features.pop('Outcome')\n",
    "\n",
    "diab_features = np.array(diab_features)\n",
    "\n",
    "train_data, train_labels = diab_features[:500], diab_labels[:500]\n",
    "validation_data, validation_labels = diab_features[500:600], diab_labels[500:600]\n",
    "test_data, test_labels = diab_features[600:], diab_labels[600:]\n",
    "\n",
    "mean = train_data.mean(axis=0)\n",
    "train_data -= mean\n",
    "std = train_data.std(axis=0)\n",
    "train_data /= std\n",
    "\n",
    "validation_data -= mean\n",
    "validation_data /= std\n",
    "\n",
    "test_data -= mean\n",
    "test_data /= std\n",
    "\n",
    "train_labels = np.asarray(train_labels).astype('float32')\n",
    "validation_labels = np.asarray(validation_labels).astype('float32')\n",
    "test_labels = np.asarray(test_labels).astype('float32')\n"
   ]
  },
  {
   "cell_type": "code",
   "execution_count": 96,
   "metadata": {},
   "outputs": [
    {
     "name": "stdout",
     "output_type": "stream",
     "text": [
      "Epoch 1/30\n",
      "32/32 [==============================] - 1s 6ms/step - loss: 0.6187 - binary_accuracy: 0.6900 - val_loss: 0.5019 - val_binary_accuracy: 0.8300\n",
      "Epoch 2/30\n",
      "32/32 [==============================] - 0s 3ms/step - loss: 0.5365 - binary_accuracy: 0.7440 - val_loss: 0.4385 - val_binary_accuracy: 0.8500\n",
      "Epoch 3/30\n",
      "32/32 [==============================] - 0s 4ms/step - loss: 0.5056 - binary_accuracy: 0.7560 - val_loss: 0.4143 - val_binary_accuracy: 0.8700\n",
      "Epoch 4/30\n",
      "32/32 [==============================] - 0s 2ms/step - loss: 0.4884 - binary_accuracy: 0.7720 - val_loss: 0.3985 - val_binary_accuracy: 0.8500\n",
      "Epoch 5/30\n",
      "32/32 [==============================] - 0s 2ms/step - loss: 0.4815 - binary_accuracy: 0.7620 - val_loss: 0.3895 - val_binary_accuracy: 0.8600\n",
      "Epoch 6/30\n",
      "32/32 [==============================] - 0s 3ms/step - loss: 0.4759 - binary_accuracy: 0.7660 - val_loss: 0.3837 - val_binary_accuracy: 0.8600\n",
      "Epoch 7/30\n",
      "32/32 [==============================] - 0s 2ms/step - loss: 0.4687 - binary_accuracy: 0.7840 - val_loss: 0.3782 - val_binary_accuracy: 0.8600\n",
      "Epoch 8/30\n",
      "32/32 [==============================] - 0s 3ms/step - loss: 0.4641 - binary_accuracy: 0.7740 - val_loss: 0.3757 - val_binary_accuracy: 0.8800\n",
      "Epoch 9/30\n",
      "32/32 [==============================] - 0s 2ms/step - loss: 0.4586 - binary_accuracy: 0.7820 - val_loss: 0.3753 - val_binary_accuracy: 0.8800\n",
      "Epoch 10/30\n",
      "32/32 [==============================] - 0s 3ms/step - loss: 0.4553 - binary_accuracy: 0.7660 - val_loss: 0.3745 - val_binary_accuracy: 0.8700\n",
      "Epoch 11/30\n",
      "32/32 [==============================] - 0s 3ms/step - loss: 0.4521 - binary_accuracy: 0.7860 - val_loss: 0.3784 - val_binary_accuracy: 0.8700\n",
      "Epoch 12/30\n",
      "32/32 [==============================] - 0s 3ms/step - loss: 0.4478 - binary_accuracy: 0.7880 - val_loss: 0.3682 - val_binary_accuracy: 0.8800\n",
      "Epoch 13/30\n",
      "32/32 [==============================] - 0s 3ms/step - loss: 0.4434 - binary_accuracy: 0.7880 - val_loss: 0.3695 - val_binary_accuracy: 0.8800\n",
      "Epoch 14/30\n",
      "32/32 [==============================] - 0s 2ms/step - loss: 0.4402 - binary_accuracy: 0.7840 - val_loss: 0.3778 - val_binary_accuracy: 0.8500\n",
      "Epoch 15/30\n",
      "32/32 [==============================] - 0s 3ms/step - loss: 0.4378 - binary_accuracy: 0.7800 - val_loss: 0.3708 - val_binary_accuracy: 0.8800\n",
      "Epoch 16/30\n",
      "32/32 [==============================] - 0s 2ms/step - loss: 0.4327 - binary_accuracy: 0.7920 - val_loss: 0.3709 - val_binary_accuracy: 0.8800\n",
      "Epoch 17/30\n",
      "32/32 [==============================] - 0s 3ms/step - loss: 0.4301 - binary_accuracy: 0.7800 - val_loss: 0.3735 - val_binary_accuracy: 0.8800\n",
      "Epoch 18/30\n",
      "32/32 [==============================] - 0s 2ms/step - loss: 0.4256 - binary_accuracy: 0.7900 - val_loss: 0.3758 - val_binary_accuracy: 0.8700\n",
      "Epoch 19/30\n",
      "32/32 [==============================] - 0s 3ms/step - loss: 0.4248 - binary_accuracy: 0.7940 - val_loss: 0.3692 - val_binary_accuracy: 0.8800\n",
      "Epoch 20/30\n",
      "32/32 [==============================] - 0s 3ms/step - loss: 0.4216 - binary_accuracy: 0.8060 - val_loss: 0.3732 - val_binary_accuracy: 0.8700\n",
      "Epoch 21/30\n",
      "32/32 [==============================] - 0s 2ms/step - loss: 0.4174 - binary_accuracy: 0.8120 - val_loss: 0.3748 - val_binary_accuracy: 0.8700\n",
      "Epoch 22/30\n",
      "32/32 [==============================] - 0s 3ms/step - loss: 0.4175 - binary_accuracy: 0.8060 - val_loss: 0.3737 - val_binary_accuracy: 0.8700\n",
      "Epoch 23/30\n",
      "32/32 [==============================] - 0s 2ms/step - loss: 0.4111 - binary_accuracy: 0.8060 - val_loss: 0.3723 - val_binary_accuracy: 0.8800\n",
      "Epoch 24/30\n",
      "32/32 [==============================] - 0s 2ms/step - loss: 0.4073 - binary_accuracy: 0.8120 - val_loss: 0.3821 - val_binary_accuracy: 0.8600\n",
      "Epoch 25/30\n",
      "32/32 [==============================] - 0s 3ms/step - loss: 0.4078 - binary_accuracy: 0.7980 - val_loss: 0.3838 - val_binary_accuracy: 0.8500\n",
      "Epoch 26/30\n",
      "32/32 [==============================] - 0s 3ms/step - loss: 0.4051 - binary_accuracy: 0.8120 - val_loss: 0.3837 - val_binary_accuracy: 0.8500\n",
      "Epoch 27/30\n",
      "32/32 [==============================] - 0s 3ms/step - loss: 0.3977 - binary_accuracy: 0.8320 - val_loss: 0.3969 - val_binary_accuracy: 0.8600\n",
      "Epoch 28/30\n",
      "32/32 [==============================] - 0s 3ms/step - loss: 0.3986 - binary_accuracy: 0.8260 - val_loss: 0.3844 - val_binary_accuracy: 0.8600\n",
      "Epoch 29/30\n",
      "32/32 [==============================] - 0s 2ms/step - loss: 0.3935 - binary_accuracy: 0.8160 - val_loss: 0.3947 - val_binary_accuracy: 0.8600\n",
      "Epoch 30/30\n",
      "32/32 [==============================] - 0s 2ms/step - loss: 0.3939 - binary_accuracy: 0.8180 - val_loss: 0.3884 - val_binary_accuracy: 0.8700\n"
     ]
    }
   ],
   "source": [
    "from tensorflow.keras.layers.experimental import preprocessing\n",
    "\n",
    "import tensorflow as tf\n",
    "from tensorflow.keras import layers\n",
    "from tensorflow.keras import models\n",
    "\n",
    "normalize = preprocessing.Normalization()\n",
    "normalize.adapt(diab_features)\n",
    "\n",
    "model = models.Sequential()\n",
    "#model.add(normalize)\n",
    "model.add(layers.Dense(64, activation='relu'))\n",
    "model.add(layers.Dense(64, activation='relu'))\n",
    "model.add(layers.Dense(1, activation='sigmoid'))\n",
    "#model= tf.keras.Sequential([\n",
    "#    normalize,\n",
    "#    layers.Dense(16, activation='relu'),\n",
    "#    layers.Dense(16, activation='relu'),\n",
    "#    layers.Dense(1, activation='sigmoid'),\n",
    "#])\n",
    "\n",
    "from tensorflow.keras import losses\n",
    "from tensorflow.keras import metrics\n",
    "from tensorflow.keras import optimizers\n",
    "\n",
    "model.compile(optimizer=optimizers.RMSprop(learning_rate=0.001),\n",
    "              loss=losses.binary_crossentropy,\n",
    "              metrics=[metrics.binary_accuracy])\n",
    "\n",
    "history = model.fit(train_data,\n",
    "                    train_labels,\n",
    "                    epochs=30,\n",
    "                    batch_size=16,\n",
    "                    validation_data=(validation_data, validation_labels))"
   ]
  },
  {
   "cell_type": "code",
   "execution_count": 97,
   "metadata": {},
   "outputs": [
    {
     "data": {
      "image/png": "[encoded data removed]",
      "text/plain": [
       "<Figure size 432x288 with 1 Axes>"
      ]
     },
     "metadata": {
      "needs_background": "light"
     },
     "output_type": "display_data"
    }
   ],
   "source": [
    "import matplotlib.pyplot as plt\n",
    "\n",
    "acc = history.history['binary_accuracy']\n",
    "val_acc = history.history['val_binary_accuracy']\n",
    "loss = history.history['loss']\n",
    "val_loss = history.history['val_loss']\n",
    "\n",
    "epochs = range(1, len(acc) + 1)\n",
    "\n",
    "# \"bo\" is for \"blue dot\"\n",
    "plt.plot(epochs, loss, 'bo', label='Training loss')\n",
    "# b is for \"solid blue line\"\n",
    "plt.plot(epochs, val_loss, 'b', label='Validation loss')\n",
    "plt.title('Training and validation loss')\n",
    "plt.xlabel('Epochs')\n",
    "plt.ylabel('Loss')\n",
    "plt.legend()\n",
    "\n",
    "plt.show()"
   ]
  },
  {
   "cell_type": "code",
   "execution_count": 98,
   "metadata": {},
   "outputs": [
    {
     "data": {
      "image/png": "[encoded data removed]",
      "text/plain": [
       "<Figure size 432x288 with 1 Axes>"
      ]
     },
     "metadata": {
      "needs_background": "light"
     },
     "output_type": "display_data"
    }
   ],
   "source": [
    "plt.clf()   # clear figure\n",
    "history_dict = history.history\n",
    "acc_values = history_dict['binary_accuracy']\n",
    "val_acc_values = history_dict['val_binary_accuracy']\n",
    "\n",
    "plt.plot(epochs, acc, 'bo', label='Training acc')\n",
    "plt.plot(epochs, val_acc, 'b', label='Validation acc')\n",
    "plt.title('Training and validation accuracy')\n",
    "plt.xlabel('Epochs')\n",
    "plt.ylabel('Accuracy')\n",
    "plt.legend()\n",
    "\n",
    "plt.show()"
   ]
  },
  {
   "cell_type": "code",
   "execution_count": 99,
   "metadata": {},
   "outputs": [
    {
     "name": "stdout",
     "output_type": "stream",
     "text": [
      "Epoch 1/15\n",
      "32/32 [==============================] - 1s 2ms/step - loss: 0.6109 - accuracy: 0.6760\n",
      "Epoch 2/15\n",
      "32/32 [==============================] - 0s 2ms/step - loss: 0.5168 - accuracy: 0.7420\n",
      "Epoch 3/15\n",
      "32/32 [==============================] - 0s 2ms/step - loss: 0.4910 - accuracy: 0.7620\n",
      "Epoch 4/15\n",
      "32/32 [==============================] - 0s 2ms/step - loss: 0.4769 - accuracy: 0.7700\n",
      "Epoch 5/15\n",
      "32/32 [==============================] - 0s 2ms/step - loss: 0.4705 - accuracy: 0.7680\n",
      "Epoch 6/15\n",
      "32/32 [==============================] - 0s 2ms/step - loss: 0.4652 - accuracy: 0.7640\n",
      "Epoch 7/15\n",
      "32/32 [==============================] - 0s 2ms/step - loss: 0.4599 - accuracy: 0.7760\n",
      "Epoch 8/15\n",
      "32/32 [==============================] - 0s 2ms/step - loss: 0.4588 - accuracy: 0.7740\n",
      "Epoch 9/15\n",
      "32/32 [==============================] - 0s 2ms/step - loss: 0.4523 - accuracy: 0.7700\n",
      "Epoch 10/15\n",
      "32/32 [==============================] - 0s 2ms/step - loss: 0.4474 - accuracy: 0.7800\n",
      "Epoch 11/15\n",
      "32/32 [==============================] - 0s 2ms/step - loss: 0.4448 - accuracy: 0.7780\n",
      "Epoch 12/15\n",
      "32/32 [==============================] - 0s 2ms/step - loss: 0.4405 - accuracy: 0.7800\n",
      "Epoch 13/15\n",
      "32/32 [==============================] - 0s 1ms/step - loss: 0.4394 - accuracy: 0.7960\n",
      "Epoch 14/15\n",
      "32/32 [==============================] - 0s 1ms/step - loss: 0.4357 - accuracy: 0.7840\n",
      "Epoch 15/15\n",
      "32/32 [==============================] - 0s 2ms/step - loss: 0.4313 - accuracy: 0.7940\n",
      "6/6 [==============================] - 0s 3ms/step - loss: 0.4640 - accuracy: 0.7917\n"
     ]
    }
   ],
   "source": [
    "model = models.Sequential()\n",
    "model.add(layers.Dense(64, activation='relu'))\n",
    "model.add(layers.Dense(64, activation='relu'))\n",
    "model.add(layers.Dense(1, activation='sigmoid'))\n",
    "\n",
    "model.compile(optimizer='rmsprop',\n",
    "              loss='binary_crossentropy',\n",
    "              metrics=['accuracy'])\n",
    "\n",
    "model.fit(train_data, train_labels, epochs=15, batch_size=16)\n",
    "results = model.evaluate(test_data, test_labels)"
   ]
  },
  {
   "cell_type": "code",
   "execution_count": null,
   "metadata": {},
   "outputs": [],
   "source": []
  }
 ],
 "metadata": {
  "kernelspec": {
   "display_name": "Python 3",
   "language": "python",
   "name": "python3"
  },
  "language_info": {
   "codemirror_mode": {
    "name": "ipython",
    "version": 3
   },
   "file_extension": ".py",
   "mimetype": "text/x-python",
   "name": "python",
   "nbconvert_exporter": "python",
   "pygments_lexer": "ipython3",
   "version": "3.9.2"
  }
 },
 "nbformat": 4,
 "nbformat_minor": 4
}
